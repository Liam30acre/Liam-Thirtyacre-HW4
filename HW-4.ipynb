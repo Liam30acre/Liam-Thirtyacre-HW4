{
 "cells": [
  {
   "cell_type": "code",
   "execution_count": 4,
   "metadata": {},
   "outputs": [],
   "source": [
    "%matplotlib inline\n",
    "import numpy as np\n",
    "import matplotlib.pyplot as plt"
   ]
  },
  {
   "cell_type": "code",
   "execution_count": 3,
   "metadata": {},
   "outputs": [],
   "source": [
    "def function_for_roots(x):\n",
    "    a = 1.01\n",
    "    b = -3.04\n",
    "    c = 2.07\n",
    "    return a*x**2 + b*x + c        #function f(x)=1.01x^2-3.04x+2.07"
   ]
  },
  {
   "cell_type": "markdown",
   "metadata": {},
   "source": [
    "func that checks if initial values are valid"
   ]
  },
  {
   "cell_type": "code",
   "execution_count": 6,
   "metadata": {},
   "outputs": [],
   "source": [
    "def check_initial_values(f, x_min, x_max, tol):  #f is the function\n",
    "    \n",
    "    y_min = f(x_min)      #check first guess\n",
    "    y_max = f(x_max)\n",
    "    \n",
    "    if(y_min*y_max>=0.0):      #check that y min and max contain a zero crossing \n",
    "        print(\"No zero crossing found in the range = \",x_min,x_max)\n",
    "        s = \"f(%f) = f(%f) = %f\" % (x_min,y_min,x_max,y_max)   #old school string \n",
    "                                                              #formating, '% letter' means \n",
    "                                                              #replacingwith () values\n",
    "        print(s)\n",
    "        return 0\n",
    "    \n",
    "    if(np.fabs(y_min)<tol):    #returns flag == 1 if x min is root\n",
    "                            #fabs is float absolute, how far y is away from root within tol\n",
    "        return 1\n",
    "    \n",
    "    if(np.fabs(y_max)<tol):    # returns flag == 2 if x max is root\n",
    "        return 2\n",
    "    \n",
    "    #if else then bracket is valis and return 3\n",
    "    return 3"
   ]
  },
  {
   "cell_type": "markdown",
   "metadata": {},
   "source": [
    "function that preforms search"
   ]
  },
  {
   "cell_type": "code",
   "execution_count": 8,
   "metadata": {},
   "outputs": [],
   "source": [
    "def bisection_root_findings(f, x_min_start, x_max_start, tol):\n",
    "    \n",
    "    #using bisection to find roots\n",
    "    \n",
    "    x_min = x_min_start     #min x in bracket\n",
    "    x_max = x_max_start\n",
    "    x_mid = 0.0\n",
    "    \n",
    "    y_min = f(x_min)\n",
    "    y_max = f(x_max)\n",
    "    y_mid = 0.0\n",
    "    \n",
    "    imax = 1000   #number of iterations\n",
    "    i = 0         #counts itterations"
   ]
  },
  {
   "cell_type": "code",
   "execution_count": null,
   "metadata": {},
   "outputs": [],
   "source": [
    "#new kind of flag, set the flag to a value \n",
    "\n",
    "#while loop, while something is true do body of loop, else jump to end\n",
    "\n",
    "# when flag = 1 its true, 0 is false"
   ]
  },
  {
   "cell_type": "code",
   "execution_count": null,
   "metadata": {},
   "outputs": [],
   "source": []
  },
  {
   "cell_type": "code",
   "execution_count": null,
   "metadata": {},
   "outputs": [],
   "source": []
  },
  {
   "cell_type": "code",
   "execution_count": null,
   "metadata": {},
   "outputs": [],
   "source": []
  },
  {
   "cell_type": "code",
   "execution_count": null,
   "metadata": {},
   "outputs": [],
   "source": []
  },
  {
   "cell_type": "code",
   "execution_count": null,
   "metadata": {},
   "outputs": [],
   "source": []
  }
 ],
 "metadata": {
  "kernelspec": {
   "display_name": "Python 3",
   "language": "python",
   "name": "python3"
  },
  "language_info": {
   "codemirror_mode": {
    "name": "ipython",
    "version": 3
   },
   "file_extension": ".py",
   "mimetype": "text/x-python",
   "name": "python",
   "nbconvert_exporter": "python",
   "pygments_lexer": "ipython3",
   "version": "3.6.5"
  }
 },
 "nbformat": 4,
 "nbformat_minor": 2
}
